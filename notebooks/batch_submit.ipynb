{
 "cells": [
  {
   "cell_type": "code",
   "execution_count": 63,
   "metadata": {},
   "outputs": [],
   "source": [
    "import collections\n",
    "\n",
    "import boto3\n",
    "import dask.dataframe as dd"
   ]
  },
  {
   "cell_type": "code",
   "execution_count": 2,
   "metadata": {},
   "outputs": [],
   "source": [
    "df = dd.read_csv(\"../data/dat_two_years.csv\")"
   ]
  },
  {
   "cell_type": "code",
   "execution_count": 4,
   "metadata": {},
   "outputs": [],
   "source": [
    "station_ids = df[\"station_id\"].unique().compute()"
   ]
  },
  {
   "cell_type": "code",
   "execution_count": 6,
   "metadata": {},
   "outputs": [
    {
     "name": "stdout",
     "output_type": "stream",
     "text": [
      "Number of unique stations: 975\n"
     ]
    }
   ],
   "source": [
    "print(f\"Number of unique stations: {len(station_ids)}\")"
   ]
  },
  {
   "cell_type": "code",
   "execution_count": 11,
   "metadata": {},
   "outputs": [],
   "source": [
    "station_ids = sorted(station_ids.tolist())"
   ]
  },
  {
   "cell_type": "code",
   "execution_count": null,
   "metadata": {},
   "outputs": [],
   "source": []
  },
  {
   "cell_type": "code",
   "execution_count": 12,
   "metadata": {},
   "outputs": [],
   "source": [
    "client = boto3.client(\"batch\")"
   ]
  },
  {
   "cell_type": "code",
   "execution_count": 29,
   "metadata": {},
   "outputs": [
    {
     "data": {
      "text/plain": [
       "{'ResponseMetadata': {'RequestId': '0b5a20e0-b957-11e9-a46b-a128daef36e8',\n",
       "  'HTTPStatusCode': 200,\n",
       "  'HTTPHeaders': {'date': 'Wed, 07 Aug 2019 21:05:11 GMT',\n",
       "   'content-type': 'application/json',\n",
       "   'content-length': '85',\n",
       "   'connection': 'keep-alive',\n",
       "   'x-amzn-requestid': '0b5a20e0-b957-11e9-a46b-a128daef36e8',\n",
       "   'x-amz-apigw-id': 'eEZ5LG9EoAMFzRg=',\n",
       "   'x-amzn-trace-id': 'Root=1-5d4b3d07-31211440ef53a9209be2ab40;Sampled=0'},\n",
       "  'RetryAttempts': 0},\n",
       " 'jobName': 'citi-bikecaster-train-72',\n",
       " 'jobId': '5627b2a1-3b79-43f3-aa0e-62ae53cc9070'}"
      ]
     },
     "execution_count": 29,
     "metadata": {},
     "output_type": "execute_result"
    }
   ],
   "source": [
    "station_id = 72\n",
    "client.submit_job(\n",
    "    jobName=f\"citi-bikecaster-train-{station_id}\",\n",
    "    jobQueue=\"citi-bikecaster-job-queue\",\n",
    "    jobDefinition=\"citi-bikecaster-train:4\",\n",
    "    parameters={\"station_id\": str(station_id)},\n",
    ")"
   ]
  },
  {
   "cell_type": "code",
   "execution_count": 54,
   "metadata": {},
   "outputs": [],
   "source": [
    "for station_id in [83, 153, 161, 119]:\n",
    "    response = client.submit_job(\n",
    "        jobName=f\"citi-bikecaster-train-{station_id}\",\n",
    "        jobQueue=\"citi-bikecaster-job-queue\",\n",
    "        jobDefinition=\"citi-bikecaster-train:5\",\n",
    "        parameters={\"station_id\": str(station_id)},\n",
    "    )"
   ]
  },
  {
   "cell_type": "code",
   "execution_count": 56,
   "metadata": {},
   "outputs": [],
   "source": [
    "job_ids = []\n",
    "\n",
    "for idx, station_id in enumerate(station_ids):\n",
    "    response = client.submit_job(\n",
    "        jobName=f\"citi-bikecaster-train-{station_id}\",\n",
    "        jobQueue=\"citi-bikecaster-job-queue\",\n",
    "        jobDefinition=\"citi-bikecaster-train:5\",\n",
    "        parameters={\"station_id\": str(station_id)},\n",
    "    )\n",
    "    job_ids.append(response[\"jobId\"])\n",
    "    if response[\"ResponseMetadata\"][\"HTTPStatusCode\"] != 200:\n",
    "        print(f\"Error submitting job for station {station_id}, at index {idx} in station_ids list\")"
   ]
  },
  {
   "cell_type": "code",
   "execution_count": 62,
   "metadata": {},
   "outputs": [
    {
     "data": {
      "text/plain": [
       "[0, 100, 200, 300, 400, 500, 600, 700, 800]"
      ]
     },
     "execution_count": 62,
     "metadata": {},
     "output_type": "execute_result"
    }
   ],
   "source": [
    "list(range(0, len(job_ids), 100))[:-1]"
   ]
  },
  {
   "cell_type": "code",
   "execution_count": 87,
   "metadata": {},
   "outputs": [],
   "source": [
    "def poll_jobs(job_ids):\n",
    "    statuses = collections.defaultdict(list)\n",
    "    slices = list(range(0, len(job_ids), 100))\n",
    "    slices.append(len(job_ids))\n",
    "    \n",
    "    for start, end in zip(slices[:-1], slices[1:]):\n",
    "        jobs = client.describe_jobs(jobs=job_ids[start:end])[\"jobs\"]\n",
    "        for job in jobs:\n",
    "            statuses[job[\"status\"]].append(job[\"jobId\"])\n",
    "            \n",
    "    status_keys = sorted(list(statuses.keys()))\n",
    "    for status in status_keys:\n",
    "        print(f\"- {len(statuses[status])} jobs in {status} state\")\n",
    "    return statuses\n",
    "\n",
    "        \n",
    "def resubmit_jobs(station_ids):\n",
    "    job_ids = statuses[\"FAILED\"]\n",
    "    slices = list(range(0, len(job_ids), 100))\n",
    "    slices.append(len(job_ids))\n",
    "    for start, end in zip(slices[:-1], slices[1:]):\n",
    "        jobs = client.describe_jobs(jobs=job_ids[start:end])[\"jobs\"]\n",
    "        for job in jobs:           \n",
    "            response = client.submit_job(\n",
    "                jobName=job[\"jobName\"],\n",
    "                jobQueue=job[\"jobQueue\"],\n",
    "                jobDefinition=job[\"jobDefinition\"],\n",
    "                parameters=job[\"parameters\"],\n",
    "            )\n",
    "            if response[\"ResponseMetadata\"][\"HTTPStatusCode\"] != 200:\n",
    "                print(f\"Error submitting job for station {job['parameters']['station_id']}\")"
   ]
  },
  {
   "cell_type": "code",
   "execution_count": 119,
   "metadata": {},
   "outputs": [],
   "source": [
    "s3 = boto3.client(\"s3\")\n",
    "objects = s3.list_objects(Bucket=\"insulator-citi-bikecaster\", Prefix=\"models/\")"
   ]
  },
  {
   "cell_type": "code",
   "execution_count": 121,
   "metadata": {},
   "outputs": [],
   "source": [
    "done_station_ids = []\n",
    "for o in objects[\"Contents\"]:\n",
    "    if o[\"Key\"].endswith(\".pkl\"):\n",
    "        try:\n",
    "            splits = o[\"Key\"].split(\"station_\")\n",
    "            station_id = int(splits[-1].rstrip(\".pkl\"))\n",
    "            done_station_ids.append(station_id)\n",
    "        except:\n",
    "            print(o[\"Key\"])\n",
    "            pass"
   ]
  },
  {
   "cell_type": "code",
   "execution_count": 122,
   "metadata": {},
   "outputs": [
    {
     "data": {
      "text/plain": [
       "638"
      ]
     },
     "execution_count": 122,
     "metadata": {},
     "output_type": "execute_result"
    }
   ],
   "source": [
    "len(done_station_ids)"
   ]
  },
  {
   "cell_type": "code",
   "execution_count": 123,
   "metadata": {},
   "outputs": [],
   "source": [
    "not_done_station_ids = list(set(station_ids) - set(done_station_ids))"
   ]
  },
  {
   "cell_type": "code",
   "execution_count": 124,
   "metadata": {},
   "outputs": [
    {
     "data": {
      "text/plain": [
       "337"
      ]
     },
     "execution_count": 124,
     "metadata": {},
     "output_type": "execute_result"
    }
   ],
   "source": [
    "len(not_done_station_ids)"
   ]
  },
  {
   "cell_type": "code",
   "execution_count": 150,
   "metadata": {},
   "outputs": [],
   "source": [
    "job_ids = []\n",
    "\n",
    "for idx, station_id in enumerate(not_done_station_ids):\n",
    "    response = client.submit_job(\n",
    "        jobName=f\"citi-bikecaster-train-{station_id}\",\n",
    "        jobQueue=\"citi-bikecaster-job-queue\",\n",
    "        jobDefinition=\"citi-bikecaster-train:5\",\n",
    "        parameters={\"station_id\": str(station_id)},\n",
    "        containerOverrides={\"memory\": 20_000, \"vcpus\": 4}\n",
    "    )\n",
    "    job_ids.append(response[\"jobId\"])\n",
    "    if response[\"ResponseMetadata\"][\"HTTPStatusCode\"] != 200:\n",
    "        print(f\"Error submitting job for station {station_id}, at index {idx} in station_ids list\")"
   ]
  },
  {
   "cell_type": "code",
   "execution_count": 144,
   "metadata": {},
   "outputs": [],
   "source": [
    "# resubmit_jobs(poll_jobs(job_ids))"
   ]
  },
  {
   "cell_type": "code",
   "execution_count": null,
   "metadata": {},
   "outputs": [],
   "source": []
  },
  {
   "cell_type": "code",
   "execution_count": null,
   "metadata": {},
   "outputs": [
    {
     "name": "stdout",
     "output_type": "stream",
     "text": [
      "2019-08-08 13:26:31 EST\n",
      "- 1 jobs in FAILED state\n",
      "- 241 jobs in RUNNABLE state\n",
      "- 48 jobs in RUNNING state\n",
      "- 47 jobs in SUCCEEDED state\n",
      "2019-08-08 13:28:32 EST\n",
      "- 3 jobs in FAILED state\n",
      "- 239 jobs in RUNNABLE state\n",
      "- 48 jobs in RUNNING state\n",
      "- 47 jobs in SUCCEEDED state\n",
      "2019-08-08 13:30:32 EST\n",
      "- 9 jobs in FAILED state\n",
      "- 231 jobs in RUNNABLE state\n",
      "- 48 jobs in RUNNING state\n",
      "- 49 jobs in SUCCEEDED state\n",
      "2019-08-08 13:32:33 EST\n",
      "- 9 jobs in FAILED state\n",
      "- 222 jobs in RUNNABLE state\n",
      "- 48 jobs in RUNNING state\n",
      "- 58 jobs in SUCCEEDED state\n",
      "2019-08-08 13:34:33 EST\n",
      "- 9 jobs in FAILED state\n",
      "- 193 jobs in RUNNABLE state\n",
      "- 43 jobs in RUNNING state\n",
      "- 5 jobs in STARTING state\n",
      "- 87 jobs in SUCCEEDED state\n",
      "2019-08-08 13:36:33 EST\n",
      "- 10 jobs in FAILED state\n",
      "- 192 jobs in RUNNABLE state\n",
      "- 46 jobs in RUNNING state\n",
      "- 89 jobs in SUCCEEDED state\n",
      "2019-08-08 13:38:34 EST\n",
      "- 12 jobs in FAILED state\n",
      "- 187 jobs in RUNNABLE state\n",
      "- 46 jobs in RUNNING state\n",
      "- 92 jobs in SUCCEEDED state\n"
     ]
    }
   ],
   "source": [
    "import time\n",
    "from datetime import datetime as dt\n",
    "\n",
    "while True:\n",
    "    print(dt.now().strftime(\"%Y-%m-%d %H:%M:%S EST\"))\n",
    "    statuses = poll_jobs(job_ids)\n",
    "    time.sleep(120)"
   ]
  },
  {
   "cell_type": "code",
   "execution_count": null,
   "metadata": {},
   "outputs": [],
   "source": []
  },
  {
   "cell_type": "code",
   "execution_count": 148,
   "metadata": {},
   "outputs": [],
   "source": [
    "response = client.list_jobs(jobQueue=\"citi-bikecaster-job-queue\", jobStatus=\"RUNNING\")"
   ]
  },
  {
   "cell_type": "code",
   "execution_count": 149,
   "metadata": {},
   "outputs": [],
   "source": [
    "for job in response[\"jobSummaryList\"]:\n",
    "    client.terminate_job(jobId=job[\"jobId\"], reason=\"Not enough memory\")"
   ]
  },
  {
   "cell_type": "code",
   "execution_count": null,
   "metadata": {},
   "outputs": [],
   "source": []
  }
 ],
 "metadata": {
  "kernelspec": {
   "display_name": "Python 3",
   "language": "python",
   "name": "python3"
  },
  "language_info": {
   "codemirror_mode": {
    "name": "ipython",
    "version": 3
   },
   "file_extension": ".py",
   "mimetype": "text/x-python",
   "name": "python",
   "nbconvert_exporter": "python",
   "pygments_lexer": "ipython3",
   "version": "3.6.7"
  }
 },
 "nbformat": 4,
 "nbformat_minor": 4
}
